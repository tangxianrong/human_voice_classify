{
 "cells": [
  {
   "cell_type": "code",
   "execution_count": 1,
   "metadata": {},
   "outputs": [
    {
     "name": "stdout",
     "output_type": "stream",
     "text": [
      "Collecting pip\n",
      "  Using cached pip-10.0.0-py2.py3-none-any.whl\n",
      "Installing collected packages: pip\n",
      "  Found existing installation: pip 9.0.1\n",
      "    Uninstalling pip-9.0.1:\n",
      "      Successfully uninstalled pip-9.0.1\n",
      "Successfully installed pip-10.0.0\n"
     ]
    }
   ],
   "source": [
    "! pip install --upgrade pip\n"
   ]
  },
  {
   "cell_type": "code",
   "execution_count": 2,
   "metadata": {},
   "outputs": [
    {
     "name": "stdout",
     "output_type": "stream",
     "text": [
      "Collecting librosa\n",
      "Requirement already satisfied: numpy>=1.8.0 in /opt/conda/lib/python3.6/site-packages (from librosa) (1.12.1)\n",
      "Requirement already satisfied: decorator>=3.0.0 in /opt/conda/lib/python3.6/site-packages (from librosa) (4.1.2)\n",
      "Collecting audioread>=2.0.0 (from librosa)\n",
      "Requirement already satisfied: scikit-learn!=0.19.0,>=0.14.0 in /opt/conda/lib/python3.6/site-packages (from librosa) (0.19.1)\n",
      "Requirement already satisfied: six>=1.3 in /opt/conda/lib/python3.6/site-packages (from librosa) (1.11.0)\n",
      "Requirement already satisfied: scipy>=0.14.0 in /opt/conda/lib/python3.6/site-packages (from librosa) (1.0.0)\n",
      "Collecting resampy>=0.2.0 (from librosa)\n",
      "Collecting joblib>=0.7.0 (from librosa)\n",
      "  Using cached joblib-0.11-py2.py3-none-any.whl\n",
      "Collecting numba>=0.32 (from resampy>=0.2.0->librosa)\n",
      "  Using cached numba-0.37.0-cp36-cp36m-manylinux1_x86_64.whl\n",
      "Collecting llvmlite>=0.22.0.dev0 (from numba>=0.32->resampy>=0.2.0->librosa)\n",
      "  Using cached llvmlite-0.22.0-cp36-cp36m-manylinux1_x86_64.whl\n",
      "\u001b[31mtensorflow 1.4.1 requires enum34>=1.1.6, which is not installed.\u001b[0m\n",
      "Installing collected packages: audioread, llvmlite, numba, resampy, joblib, librosa\n",
      "  Found existing installation: llvmlite 0.16.0\n",
      "    Uninstalling llvmlite-0.16.0:\n",
      "      Successfully uninstalled llvmlite-0.16.0\n",
      "  Found existing installation: numba 0.31.0\n",
      "    Uninstalling numba-0.31.0:\n",
      "      Successfully uninstalled numba-0.31.0\n",
      "Successfully installed audioread-2.1.5 joblib-0.11 librosa-0.6.0 llvmlite-0.22.0 numba-0.37.0 resampy-0.2.0\n"
     ]
    }
   ],
   "source": [
    "!pip install librosa\n",
    "import librosa"
   ]
  },
  {
   "cell_type": "code",
   "execution_count": 3,
   "metadata": {},
   "outputs": [
    {
     "name": "stdout",
     "output_type": "stream",
     "text": [
      "Collecting wave\n",
      "\u001b[31mtensorflow 1.4.1 requires enum34>=1.1.6, which is not installed.\u001b[0m\n",
      "Installing collected packages: wave\n",
      "Successfully installed wave-0.0.2\n",
      "Collecting soundfile\n",
      "  Using cached SoundFile-0.10.1-py2.py3-none-any.whl\n",
      "Requirement already satisfied: cffi>=1.0 in /opt/conda/lib/python3.6/site-packages (from soundfile) (1.11.2)\n",
      "Requirement already satisfied: pycparser in /opt/conda/lib/python3.6/site-packages (from cffi>=1.0->soundfile) (2.18)\n",
      "\u001b[31mtensorflow 1.4.1 requires enum34>=1.1.6, which is not installed.\u001b[0m\n",
      "Installing collected packages: soundfile\n",
      "Successfully installed soundfile-0.10.1\n"
     ]
    }
   ],
   "source": [
    "!pip install wave\n",
    "!pip install soundfile"
   ]
  },
  {
   "cell_type": "code",
   "execution_count": 4,
   "metadata": {},
   "outputs": [],
   "source": [
    "import soundfile as sf"
   ]
  },
  {
   "cell_type": "code",
   "execution_count": 5,
   "metadata": {},
   "outputs": [],
   "source": [
    "from __future__ import print_function, division\n",
    "import glob\n",
    "from sklearn.model_selection import train_test_split\n",
    "import thinkdsp\n",
    "import thinkplot\n",
    "import thinkstats2 \n",
    "\n",
    "import numpy as np\n",
    "\n",
    "import warnings\n",
    "warnings.filterwarnings('ignore')\n",
    "\n",
    "from ipywidgets import interact, interactive, fixed\n",
    "import ipywidgets as widgets\n",
    "\n",
    "PI2 = np.pi * 2\n",
    "import wave\n",
    "import os\n",
    "import contextlib\n",
    "%matplotlib inline\n",
    "\n",
    "musicdur=4"
   ]
  },
  {
   "cell_type": "code",
   "execution_count": 30,
   "metadata": {},
   "outputs": [],
   "source": [
    "styleview=['beti','lia','lotsuwalun','ramu','remu','subaru']\n",
    "# styleview=['kopi','kuan']\n"
   ]
  },
  {
   "cell_type": "code",
   "execution_count": 57,
   "metadata": {},
   "outputs": [],
   "source": [
    "# x=[]\n",
    "# time=[]\n",
    "# for i,c in enumerate(styleview):\n",
    "#     lis=glob.glob('sounddata/'+c+'/4/*.wav')\n",
    "#     data= []\n",
    "#     for j in lis:    \n",
    "#         w = wave.open(j, 'rb')\n",
    "#         data.append( [w.getparams(), w.readframes(w.getnframes())] )\n",
    "#         w.close()\n",
    "#     output = wave.open('sounddata/'+c+'/'+c+'.wav', 'wb')\n",
    "#     output.setparams(data[0][0])\n",
    "#     for k in range(np.size(data,0)):\n",
    "#         output.writeframes(data[k][1])\n",
    "#     output.close()\n",
    "    \n",
    "    \n",
    "#     f = sf.SoundFile('sounddata/'+c+'/'+c+'.wav')\n",
    "    \n",
    "#     time.append(len(f) / f.samplerate)\n",
    "\n",
    "    \n",
    "# xx=np.array(x)\n",
    "\n",
    "# time1=np.array(time)\n",
    "\n",
    "\n",
    "# data= []\n",
    "# for i,c in enumerate(styleview):    \n",
    "#     w = wave.open('sounddata/'+c+'/'+c+'.wav', 'rb')\n",
    "#     data.append( [w.getparams(), w.readframes(w.getnframes())] )\n",
    "#     w.close()\n",
    "# output = wave.open('sounddata/all.wav', 'wb')\n",
    "# output.setparams(data[0][0])\n",
    "# for k in range(np.size(data,0)):\n",
    "#     output.writeframes(data[k][1])\n",
    "# output.close()"
   ]
  },
  {
   "cell_type": "code",
   "execution_count": 58,
   "metadata": {},
   "outputs": [
    {
     "data": {
      "text/plain": [
       "array([  25.34747917,   35.20716553,   34.876375  ,   45.813     ,\n",
       "         46.25125   ,  171.86975   ])"
      ]
     },
     "execution_count": 58,
     "metadata": {},
     "output_type": "execute_result"
    }
   ],
   "source": [
    "# time1"
   ]
  },
  {
   "cell_type": "code",
   "execution_count": 12,
   "metadata": {},
   "outputs": [
    {
     "name": "stdout",
     "output_type": "stream",
     "text": [
      "0\n",
      "Writing sounddata/kopi/kopi.wav\n",
      "1\n",
      "Writing sounddata/kuan/kuan.wav\n"
     ]
    }
   ],
   "source": [
    "# t1=0\n",
    "\n",
    "# allin=thinkdsp.read_wave('sounddata/all.wav')\n",
    "# for i,c in enumerate(styleview): \n",
    "#     print(i)\n",
    "#     wave=allin.segment(start=t1,duration=time1[i])\n",
    "#     wave.write('sounddata/'+c+'/'+c+'.wav')\n",
    "#     t1=t1+time1[i]"
   ]
  },
  {
   "cell_type": "code",
   "execution_count": 31,
   "metadata": {},
   "outputs": [
    {
     "name": "stdout",
     "output_type": "stream",
     "text": [
      "2.5541875\n",
      "(128, 111)\n",
      "3.3988125\n",
      "(128, 147)\n",
      "1.5151041666666667\n",
      "(128, 66)\n",
      "1.3641666666666667\n",
      "(128, 59)\n",
      "1.9504791666666668\n",
      "(128, 85)\n",
      "3.4249375\n",
      "(128, 148)\n",
      "4.620770833333333\n",
      "(128, 200)\n",
      "1.79375\n",
      "(128, 78)\n",
      "4.725270833333333\n",
      "(128, 204)\n",
      "28.421224489795918\n",
      "(128, 1225)\n",
      "1.068125\n",
      "(128, 47)\n",
      "0.9404166666666667\n",
      "(128, 41)\n",
      "4.226041666666666\n",
      "(128, 183)\n",
      "0.8010833333333334\n",
      "(128, 35)\n",
      "1.9156458333333333\n",
      "(128, 83)\n",
      "3.4133333333333336\n",
      "(128, 148)\n",
      "5.8514375\n",
      "(128, 253)\n",
      "5.061958333333333\n",
      "(128, 219)\n",
      "11.424208333333333\n",
      "(128, 493)\n",
      "4.481458333333333\n",
      "(128, 194)\n",
      "1.92725\n",
      "(128, 84)\n",
      "4.156375\n",
      "(128, 180)\n",
      "2.049166666666667\n",
      "(128, 89)\n",
      "1.9040416666666666\n",
      "(128, 83)\n",
      "1.5731458333333332\n",
      "(128, 68)\n",
      "2.798\n",
      "(128, 121)\n",
      "4.580145833333333\n",
      "(128, 198)\n",
      "9.543395833333333\n",
      "(128, 412)\n",
      "6.188125\n",
      "(128, 267)\n",
      "2.229125\n",
      "(128, 97)\n",
      "2.9547291666666666\n",
      "(128, 128)\n",
      "1.161\n",
      "(128, 51)\n",
      "2.5309791666666666\n",
      "(128, 110)\n",
      "1.7589166666666667\n",
      "(128, 76)\n",
      "2.385854166666667\n",
      "(128, 103)\n",
      "4.3479375\n",
      "(128, 188)\n",
      "1.9214583333333333\n",
      "(128, 83)\n",
      "2.322\n",
      "(128, 101)\n",
      "3.0534166666666667\n",
      "(128, 132)\n",
      "3.456875\n",
      "(128, 149)\n",
      "0.3947291666666667\n",
      "(128, 18)\n",
      "13.6649375\n",
      "(128, 589)\n",
      "9.972979166666667\n",
      "(128, 430)\n",
      "2.960541666666667\n",
      "(128, 128)\n",
      "1.9504791666666668\n",
      "(128, 85)\n",
      "0.8823541666666667\n",
      "(128, 39)\n",
      "1.3235416666666666\n",
      "(128, 58)\n",
      "1.9736875\n",
      "(128, 86)\n",
      "1.4454375\n",
      "(128, 63)\n",
      "5.939958333333333\n",
      "(128, 256)\n",
      "4.104125\n",
      "(128, 177)\n",
      "2.6470833333333332\n",
      "(128, 115)\n",
      "1.9156458333333333\n",
      "(128, 83)\n",
      "1.4164166666666667\n",
      "(128, 62)\n",
      "1.7124791666666668\n",
      "(128, 74)\n",
      "1.3177291666666666\n",
      "(128, 57)\n",
      "7.767083333333333\n",
      "(128, 335)\n",
      "8.666854166666667\n",
      "(128, 374)\n",
      "4.214416666666667\n",
      "(128, 182)\n",
      "3.4655833333333335\n",
      "(128, 150)\n",
      "1.7589166666666667\n",
      "(128, 76)\n",
      "3.4946041666666665\n",
      "(128, 151)\n",
      "1.6428125\n",
      "(128, 71)\n",
      "8.034104166666667\n",
      "(128, 347)\n",
      "2.0549583333333334\n",
      "(128, 89)\n",
      "1.358375\n",
      "(128, 59)\n",
      "1.68925\n",
      "(128, 73)\n",
      "15.719916666666666\n",
      "(128, 678)\n",
      "5.3638125\n",
      "(128, 232)\n",
      "0.5805\n",
      "(128, 26)\n",
      "3.297229166666667\n",
      "(128, 143)\n",
      "4.411791666666667\n",
      "(128, 191)\n",
      "2.0433541666666666\n",
      "(128, 89)\n",
      "1.399\n",
      "(128, 61)\n",
      "1.201625\n",
      "(128, 52)\n",
      "1.6950625\n",
      "(128, 74)\n",
      "4.2434375\n",
      "(128, 183)\n",
      "1.5267083333333333\n",
      "(128, 66)\n",
      "10.87275\n",
      "(128, 469)\n",
      "4.034458333333333\n",
      "(128, 174)\n",
      "3.6571458333333333\n",
      "(128, 158)\n",
      "11.377770833333333\n",
      "(128, 491)\n",
      "2.890875\n",
      "(128, 125)\n",
      "30.934791666666666\n",
      "(128, 1333)\n"
     ]
    }
   ],
   "source": [
    "import cv2\n",
    "x=[]\n",
    "y=[]\n",
    "\n",
    "    \n",
    "for i,c in enumerate(styleview):\n",
    "    lis=glob.glob('sounddata/'+c+'/4/*.wav')\n",
    "    data= []\n",
    "    for k in lis: \n",
    "        X, sample_rate = librosa.load(k)\n",
    "        f = sf.SoundFile(k)\n",
    "        print(len(f) / f.samplerate)\n",
    "        mel = librosa.feature. melspectrogram(X, sr=sample_rate)\n",
    "        print(np.shape(mel))\n",
    "        for j in range(mel.shape[1]-20):\n",
    "    #         print(j)\n",
    "            a=mel[:,j:(j+20)]\n",
    "\n",
    "            a=(np.reshape(a,(128,20,1))).astype(np.float32)\n",
    "            x.append(a)\n",
    "\n",
    "    #         print(np.shape(x))\n",
    "\n",
    "            yout=np.zeros(len(styleview))\n",
    "            yout[i]=1\n",
    "            y.append(yout)\n",
    "\n",
    "\n",
    "xx1=np.array(x)\n",
    "yy1=np.array(y)\n"
   ]
  },
  {
   "cell_type": "code",
   "execution_count": 52,
   "metadata": {},
   "outputs": [],
   "source": [
    "from sklearn.utils import class_weight\n",
    "import numpy as np\n",
    "cw= class_weight.compute_class_weight('balanced', np.unique(np.argmax(yy1, axis=1)), np.argmax(yy1, axis=1))"
   ]
  },
  {
   "cell_type": "code",
   "execution_count": 25,
   "metadata": {},
   "outputs": [
    {
     "name": "stdout",
     "output_type": "stream",
     "text": [
      "0\n",
      "1\n"
     ]
    }
   ],
   "source": [
    "# import cv2\n",
    "# x=[]\n",
    "# y=[]\n",
    "# # thinkdsp.Spectrum.freq_res=20\n",
    "# # thinkdsp.Spectrum.max_freq=5000\n",
    "# for i,c in enumerate(styleview):\n",
    "#     lis=glob.glob('sounddata/'+c+'/train/*.wav')\n",
    "#     print(i)\n",
    "#     for j in lis[:150]:\n",
    "# #         print(j)\n",
    "\n",
    "# #         kx=[]\n",
    "# #         X, sample_rate = librosa.load('sounddata/'+c+'/'+c+'.wav')\n",
    "# #         mel = librosa.feature. melspectrogram(X, sr=sample_rate)\n",
    "# #         mel = cv2.resize(mel, dsize=(128, 128), interpolation=cv2.INTER_CUBIC)\n",
    "# #         print(np.shape(mel)) \n",
    "# #         a=(np.reshape(mel,(128,128,1))).astype(np.float32)\n",
    "# #         x.append(a)\n",
    "# #         print(np.shape(x))\n",
    "        \n",
    "#         yout=np.zeros(len(styleview))\n",
    "#         yout[i]=1\n",
    "#         y.append(yout)\n",
    "# # xx1=np.array(x)\n",
    "# yy1=np.array(y)\n"
   ]
  },
  {
   "cell_type": "code",
   "execution_count": 130,
   "metadata": {},
   "outputs": [
    {
     "data": {
      "text/plain": [
       "10616.063"
      ]
     },
     "execution_count": 130,
     "metadata": {},
     "output_type": "execute_result"
    }
   ],
   "source": [
    "\n"
   ]
  },
  {
   "cell_type": "code",
   "execution_count": 16,
   "metadata": {},
   "outputs": [
    {
     "ename": "AttributeError",
     "evalue": "'numpy.ndarray' object has no attribute 'save_txt'",
     "output_type": "error",
     "traceback": [
      "\u001b[0;31m---------------------------------------------------------------------------\u001b[0m",
      "\u001b[0;31mAttributeError\u001b[0m                            Traceback (most recent call last)",
      "\u001b[0;32m<ipython-input-16-a7734015def8>\u001b[0m in \u001b[0;36m<module>\u001b[0;34m()\u001b[0m\n\u001b[0;32m----> 1\u001b[0;31m \u001b[0mxx1\u001b[0m\u001b[0;34m.\u001b[0m\u001b[0msave_txt\u001b[0m\u001b[0;34m(\u001b[0m\u001b[0;34m'train1.csv'\u001b[0m\u001b[0;34m,\u001b[0m\u001b[0mdelimiter\u001b[0m\u001b[0;34m=\u001b[0m\u001b[0;34m\",\"\u001b[0m\u001b[0;34m)\u001b[0m\u001b[0;34m\u001b[0m\u001b[0m\n\u001b[0m\u001b[1;32m      2\u001b[0m \u001b[0myy1\u001b[0m\u001b[0;34m.\u001b[0m\u001b[0msavetxt\u001b[0m\u001b[0;34m(\u001b[0m\u001b[0;34m'ans1.csv'\u001b[0m\u001b[0;34m,\u001b[0m\u001b[0mdelimiter\u001b[0m\u001b[0;34m=\u001b[0m\u001b[0;34m\",\"\u001b[0m\u001b[0;34m)\u001b[0m\u001b[0;34m\u001b[0m\u001b[0m\n",
      "\u001b[0;31mAttributeError\u001b[0m: 'numpy.ndarray' object has no attribute 'save_txt'"
     ]
    }
   ],
   "source": [
    "xx1.savetxt('train1.csv',delimiter=\",\")\n",
    "yy1.savetxt('ans1.csv',delimiter=\",\")"
   ]
  },
  {
   "cell_type": "code",
   "execution_count": 57,
   "metadata": {},
   "outputs": [],
   "source": [
    "# xtr,xv,ytr,yv=train_test_split(xx1,yy1,train_size=0.5,shuffle=True)"
   ]
  },
  {
   "cell_type": "code",
   "execution_count": 68,
   "metadata": {},
   "outputs": [
    {
     "data": {
      "text/plain": [
       "numpy.ndarray"
      ]
     },
     "execution_count": 68,
     "metadata": {},
     "output_type": "execute_result"
    }
   ],
   "source": [
    "type(xx1)"
   ]
  },
  {
   "cell_type": "code",
   "execution_count": 111,
   "metadata": {},
   "outputs": [
    {
     "data": {
      "text/plain": [
       "(7680, 128, 20, 1)"
      ]
     },
     "execution_count": 111,
     "metadata": {},
     "output_type": "execute_result"
    }
   ],
   "source": [
    "np.shape(xv)"
   ]
  },
  {
   "cell_type": "code",
   "execution_count": 87,
   "metadata": {},
   "outputs": [],
   "source": [
    "import keras"
   ]
  },
  {
   "cell_type": "code",
   "execution_count": 101,
   "metadata": {},
   "outputs": [
    {
     "name": "stdout",
     "output_type": "stream",
     "text": [
      "_________________________________________________________________\n",
      "Layer (type)                 Output Shape              Param #   \n",
      "=================================================================\n",
      "conv2d_136 (Conv2D)          (None, 128, 20, 64)       640       \n",
      "_________________________________________________________________\n",
      "activation_136 (Activation)  (None, 128, 20, 64)       0         \n",
      "_________________________________________________________________\n",
      "max_pooling2d_43 (MaxPooling (None, 64, 20, 64)        0         \n",
      "_________________________________________________________________\n",
      "conv2d_137 (Conv2D)          (None, 64, 20, 128)       73856     \n",
      "_________________________________________________________________\n",
      "activation_137 (Activation)  (None, 64, 20, 128)       0         \n",
      "_________________________________________________________________\n",
      "max_pooling2d_44 (MaxPooling (None, 32, 20, 128)       0         \n",
      "_________________________________________________________________\n",
      "conv2d_138 (Conv2D)          (None, 32, 20, 128)       491648    \n",
      "_________________________________________________________________\n",
      "activation_138 (Activation)  (None, 32, 20, 128)       0         \n",
      "_________________________________________________________________\n",
      "max_pooling2d_45 (MaxPooling (None, 16, 20, 128)       0         \n",
      "_________________________________________________________________\n",
      "conv2d_139 (Conv2D)          (None, 16, 20, 128)       491648    \n",
      "_________________________________________________________________\n",
      "activation_139 (Activation)  (None, 16, 20, 128)       0         \n",
      "_________________________________________________________________\n",
      "max_pooling2d_46 (MaxPooling (None, 8, 20, 128)        0         \n",
      "_________________________________________________________________\n",
      "conv2d_140 (Conv2D)          (None, 8, 20, 128)        983168    \n",
      "_________________________________________________________________\n",
      "activation_140 (Activation)  (None, 8, 20, 128)        0         \n",
      "_________________________________________________________________\n",
      "flatten_9 (Flatten)          (None, 20480)             0         \n",
      "_________________________________________________________________\n",
      "dense_9 (Dense)              (None, 6)                 122886    \n",
      "=================================================================\n",
      "Total params: 2,163,846\n",
      "Trainable params: 2,163,846\n",
      "Non-trainable params: 0\n",
      "_________________________________________________________________\n",
      "None\n"
     ]
    }
   ],
   "source": [
    "model = keras.models.Sequential()\n",
    "\n",
    "model.add(keras.layers.Conv2D(64, (3, 3), padding='same',input_shape=(128, 20, 1)))\n",
    "model.add(keras.layers.Activation('relu'))\n",
    "model.add(keras.layers.MaxPooling2D(pool_size=(2,1)))\n",
    "# model.add(keras.layers.Dropout(0.3))\n",
    "\n",
    "model.add(keras.layers.Conv2D(128, (3, 3), padding='same'))\n",
    "model.add(keras.layers.Activation('relu'))\n",
    "model.add(keras.layers.MaxPooling2D(pool_size=(2,1)))\n",
    "# model.add(keras.layers.Dropout(0.3))\n",
    "\n",
    "model.add(keras.layers.Conv2D(128, (10, 3), padding='same'))\n",
    "model.add(keras.layers.Activation('relu'))\n",
    "model.add(keras.layers.MaxPooling2D(pool_size=(2,1)))\n",
    "# model.add(keras.layers.Dropout(0.3))\n",
    "\n",
    "model.add(keras.layers.Conv2D(128, (10, 3), padding='same'))\n",
    "model.add(keras.layers.Activation('relu'))\n",
    "model.add(keras.layers.MaxPooling2D(pool_size=(2,1)))\n",
    "# model.add(keras.layers.Dropout(0.3))\n",
    "\n",
    "model.add(keras.layers.Conv2D(128, (20, 3), padding='same'))\n",
    "model.add(keras.layers.Activation('relu'))\n",
    "# model.add(keras.layers.MaxPooling2D(pool_size=(2,1)))\n",
    "# model.add(keras.layers.Dropout(0.3))\n",
    "\n",
    "\n",
    "\n",
    "model.add(keras.layers.Flatten())\n",
    "\n",
    "# model.add(keras.layers.Dense(50,activation='relu'))\n",
    "# model.add(keras.layers.Dropout(0.1))\n",
    "\n",
    "model.add(keras.layers.Dense(len(styleview),activation='softmax'))\n",
    "\n",
    "print(model.summary())"
   ]
  },
  {
   "cell_type": "code",
   "execution_count": 102,
   "metadata": {},
   "outputs": [],
   "source": [
    "from keras.preprocessing.image import ImageDataGenerator"
   ]
  },
  {
   "cell_type": "code",
   "execution_count": 103,
   "metadata": {},
   "outputs": [
    {
     "name": "stdout",
     "output_type": "stream",
     "text": [
      "Using real-time data augmentation.\n"
     ]
    }
   ],
   "source": [
    "opt = keras.optimizers.Adam(lr=0.001)\n",
    "\n",
    "# Let's train the model using Adam\n",
    "model.compile(loss='categorical_crossentropy',\n",
    "              optimizer=opt,\n",
    "              metrics=['accuracy'])\n",
    "\n",
    "print('Using real-time data augmentation.')\n",
    "# This will do preprocessing and realtime data augmentation:\n",
    "datagen = ImageDataGenerator(\n",
    "    rotation_range=180,  # randomly rotate images in the range (degrees, 0 to 180)\n",
    "    width_shift_range=0.5,  # randomly shift images horizontally (fraction of total width)\n",
    "    height_shift_range=0.5,  # randomly shift images vertically (fraction of total height)\n",
    "    horizontal_flip=True,  # randomly flip images\n",
    "    vertical_flip=False,\n",
    "    shear_range=0.2, \n",
    "    zoom_range=0.2)  # randomly flip images\n",
    "\n",
    "###little aug\n",
    "datagen_aug_small = ImageDataGenerator(\n",
    "    rotation_range=30,  # randomly rotate images in the range (degrees, 0 to 180)\n",
    "    width_shift_range=0.1,  # randomly shift images horizontally (fraction of total width)\n",
    "    height_shift_range=0.1,  # randomly shift images vertically (fraction of total height)\n",
    "    horizontal_flip=False,  # randomly flip images\n",
    "    vertical_flip=False,)\n",
    "\n",
    "# earlystop\n",
    "earlystop = keras.callbacks.EarlyStopping(monitor='val_loss', patience=10, verbose=1)"
   ]
  },
  {
   "cell_type": "code",
   "execution_count": null,
   "metadata": {},
   "outputs": [],
   "source": []
  },
  {
   "cell_type": "code",
   "execution_count": 13,
   "metadata": {},
   "outputs": [],
   "source": [
    "import keras.backend as K\n",
    "# from keras.applications.inception_resnet_v2 import InceptionResNetV2\n",
    "from keras.applications.inception_v3 import InceptionV3\n",
    "from keras.models import Model\n",
    "from keras.layers import Dense, GlobalAveragePooling2D, Input, Conv2D, UpSampling2D\n",
    "from keras.applications.vgg16 import VGG16"
   ]
  },
  {
   "cell_type": "code",
   "execution_count": 14,
   "metadata": {},
   "outputs": [
    {
     "name": "stdout",
     "output_type": "stream",
     "text": [
      "_________________________________________________________________\n",
      "Layer (type)                 Output Shape              Param #   \n",
      "=================================================================\n",
      "conv2d_6 (Conv2D)            (None, 128, 20, 3)        30        \n",
      "_________________________________________________________________\n",
      "activation_6 (Activation)    (None, 128, 20, 3)        0         \n",
      "_________________________________________________________________\n",
      "up_sampling2d_1 (UpSampling2 (None, 256, 140, 3)       0         \n",
      "=================================================================\n",
      "Total params: 30\n",
      "Trainable params: 30\n",
      "Non-trainable params: 0\n",
      "_________________________________________________________________\n",
      "None\n",
      "1\n",
      "2\n",
      "3\n"
     ]
    }
   ],
   "source": [
    "# K.clear_session()\n",
    "\n",
    "# model.add(keras.layers.Flatten())\n",
    "\n",
    "# basenet = InceptionResNetV2(weights='imagenet', include_top=False, input_shape=(pix, pix, colors))\n",
    "modelf = keras.models.Sequential()\n",
    "modelf.add(keras.layers.Conv2D(3, (3, 3), padding='same',input_shape=(128, 20, 1)))\n",
    "modelf.add(keras.layers.Activation('relu'))\n",
    "# modelf.add(keras.layers.MaxPooling2D(pool_size=(2, 2)))\n",
    "modelf.add(UpSampling2D((2, 7 )))\n",
    "print(modelf.summary())\n",
    "# input_tensor = Input(shape=(128, 20, 1))\n",
    "# upsampled = \n",
    "# inputlayer=Conv2D(3, (3, 2), padding='same',input_shape=(128, 20, 1))(upsampled)\n",
    "\n",
    "basenet = InceptionV3( include_top=False )(modelf.output)\n",
    "# basenet = InceptionV3(weights='imagenet', include_top=False, input_shape=(256, 140, 3))\n",
    "\n",
    "# basenet =VGG16(input_tensor=upsampled)\n",
    "# for layer in basenet.layers[:10]:\n",
    "#     layer.trainable = False\n",
    "\n",
    "# model.add(keras.layers.Conv2D(64, (3, 3), padding='same',input_shape=(pix, pix, 1)))\n",
    "# model.add(keras.layers.Activation('relu'))\n",
    "# model.add(keras.layers.MaxPooling2D(pool_size=(2, 2)))    \n",
    "# input_tensor = Input(shape=(7, 7, 3))\n",
    "# upsampled = UpSampling2D((32, 32))(input_tensor)\n",
    "# VGG = VGG16(input_tensor=upsampled)\n",
    "# print(basenet.summary())\n",
    "\n",
    "x = GlobalAveragePooling2D()(basenet)\n",
    "\n",
    "\n",
    "print(1)\n",
    "predictions = Dense(len(styleview), activation=\"softmax\")(x)  \n",
    "print(2)\n",
    "# model = Model(inputs=modelf.input, outputs=modelf.output)\n",
    "model = Model(inputs=modelf.input, outputs=predictions)\n",
    "print(3)\n",
    "model.compile(optimizer='adam', loss='categorical_crossentropy', metrics=['acc'])"
   ]
  },
  {
   "cell_type": "code",
   "execution_count": 78,
   "metadata": {},
   "outputs": [
    {
     "name": "stdout",
     "output_type": "stream",
     "text": [
      "_________________________________________________________________\n",
      "Layer (type)                 Output Shape              Param #   \n",
      "=================================================================\n",
      "conv2d_1701 (Conv2D)         (None, 128, 20, 3)        30        \n",
      "_________________________________________________________________\n",
      "activation_1691 (Activation) (None, 128, 20, 3)        0         \n",
      "_________________________________________________________________\n",
      "up_sampling2d_28 (UpSampling (None, 256, 140, 3)       0         \n",
      "=================================================================\n",
      "Total params: 30\n",
      "Trainable params: 30\n",
      "Non-trainable params: 0\n",
      "_________________________________________________________________\n",
      "None\n",
      "1\n",
      "2\n",
      "_________________________________________________________________\n",
      "Layer (type)                 Output Shape              Param #   \n",
      "=================================================================\n",
      "conv2d_1701_input (InputLaye (None, 128, 20, 1)        0         \n",
      "_________________________________________________________________\n",
      "conv2d_1701 (Conv2D)         (None, 128, 20, 3)        30        \n",
      "_________________________________________________________________\n",
      "activation_1691 (Activation) (None, 128, 20, 3)        0         \n",
      "_________________________________________________________________\n",
      "up_sampling2d_28 (UpSampling (None, 256, 140, 3)       0         \n",
      "_________________________________________________________________\n",
      "vgg16 (Model)                multiple                  14714688  \n",
      "_________________________________________________________________\n",
      "global_average_pooling2d_12  (None, 512)               0         \n",
      "_________________________________________________________________\n",
      "dense_7 (Dense)              (None, 7)                 3591      \n",
      "=================================================================\n",
      "Total params: 14,718,309\n",
      "Trainable params: 14,718,309\n",
      "Non-trainable params: 0\n",
      "_________________________________________________________________\n",
      "None\n",
      "3\n"
     ]
    }
   ],
   "source": [
    "from keras.applications.vgg16 import VGG16\n",
    "from keras.layers import Input, UpSampling2D\n",
    "\n",
    "modelf = keras.models.Sequential()\n",
    "modelf.add(keras.layers.Conv2D(3, (3, 3), padding='same',input_shape=(128, 20, 1)))\n",
    "modelf.add(keras.layers.Activation('relu'))\n",
    "# modelf.add(keras.layers.MaxPooling2D(pool_size=(2, 2)))\n",
    "modelf.add(UpSampling2D((2, 7 )))\n",
    "print(modelf.summary())\n",
    "\n",
    "basenet = VGG16( include_top=False )(modelf.output)\n",
    "\n",
    "\n",
    "x = GlobalAveragePooling2D()(basenet)\n",
    "\n",
    "\n",
    "print(1)\n",
    "predictions = Dense(len(styleview), activation=\"softmax\")(x)  \n",
    "print(2)\n",
    "# model = Model(inputs=modelf.input, outputs=modelf.output)\n",
    "model = Model(inputs=modelf.input, outputs=predictions)\n",
    "print(model.summary())\n",
    "print(3)\n",
    "model.compile(optimizer='adam', loss='categorical_crossentropy', metrics=['acc'])"
   ]
  },
  {
   "cell_type": "code",
   "execution_count": 79,
   "metadata": {},
   "outputs": [],
   "source": [
    "# This will do preprocessing and realtime data augmentation:\n",
    "datagen = ImageDataGenerator(\n",
    "    rotation_range=10,  # randomly rotate images in the range (degrees, 0 to 180)\n",
    "    width_shift_range=0.2,  # randomly shift images horizontally (fraction of total width)\n",
    "    height_shift_range=0.2,  # randomly shift images vertically (fraction of total height)\n",
    "    horizontal_flip=True,  # randomly flip images\n",
    "    vertical_flip=False,\n",
    "    shear_range=0.2, \n",
    "    zoom_range=0.2)  # randomly flip images\n",
    "\n",
    "###little aug\n",
    "datagen_aug_small = ImageDataGenerator(\n",
    "    rotation_range=30,  # randomly rotate images in the range (degrees, 0 to 180)\n",
    "    width_shift_range=0.1,  # randomly shift images horizontally (fraction of total width)\n",
    "    height_shift_range=0.1,  # randomly shift images vertically (fraction of total height)\n",
    "    horizontal_flip=True,  # randomly flip images\n",
    "    vertical_flip=False,)\n",
    "\n",
    "# earlystop\n",
    "earlystop = keras.callbacks.EarlyStopping(monitor='val_loss', patience=10, verbose=1)"
   ]
  },
  {
   "cell_type": "code",
   "execution_count": null,
   "metadata": {},
   "outputs": [],
   "source": []
  },
  {
   "cell_type": "code",
   "execution_count": null,
   "metadata": {},
   "outputs": [],
   "source": []
  },
  {
   "cell_type": "code",
   "execution_count": 104,
   "metadata": {},
   "outputs": [],
   "source": [
    "from keras.callbacks import ReduceLROnPlateau"
   ]
  },
  {
   "cell_type": "code",
   "execution_count": 114,
   "metadata": {},
   "outputs": [
    {
     "name": "stdout",
     "output_type": "stream",
     "text": [
      "Train on 13833 samples, validate on 1249 samples\n",
      "Epoch 1/15\n",
      "13833/13833 [==============================] - 11s 781us/step - loss: 2.7501e-05 - acc: 1.0000 - val_loss: 1.6980 - val_acc: 0.8399\n",
      "Epoch 2/15\n",
      "13833/13833 [==============================] - 11s 796us/step - loss: 2.1018e-05 - acc: 1.0000 - val_loss: 1.7118 - val_acc: 0.8391\n",
      "Epoch 3/15\n",
      "13833/13833 [==============================] - 11s 788us/step - loss: 1.4845e-05 - acc: 1.0000 - val_loss: 1.7277 - val_acc: 0.8391\n",
      "Epoch 4/15\n",
      "13833/13833 [==============================] - 11s 792us/step - loss: 1.0864e-05 - acc: 1.0000 - val_loss: 1.7449 - val_acc: 0.8391\n",
      "Epoch 5/15\n",
      "13833/13833 [==============================] - 11s 787us/step - loss: 8.4367e-06 - acc: 1.0000 - val_loss: 1.7522 - val_acc: 0.8391\n",
      "Epoch 6/15\n",
      "13833/13833 [==============================] - 11s 784us/step - loss: 6.1036e-06 - acc: 1.0000 - val_loss: 1.7632 - val_acc: 0.8391\n",
      "Epoch 7/15\n",
      "13833/13833 [==============================] - 11s 796us/step - loss: 5.1479e-06 - acc: 1.0000 - val_loss: 1.7761 - val_acc: 0.8391\n",
      "Epoch 8/15\n",
      "13833/13833 [==============================] - 11s 786us/step - loss: 4.5045e-06 - acc: 1.0000 - val_loss: 1.7833 - val_acc: 0.8383\n",
      "Epoch 9/15\n",
      "13833/13833 [==============================] - 11s 770us/step - loss: 3.5836e-06 - acc: 1.0000 - val_loss: 1.7926 - val_acc: 0.8383\n",
      "Epoch 10/15\n",
      "13833/13833 [==============================] - 11s 792us/step - loss: 2.5908e-06 - acc: 1.0000 - val_loss: 1.8022 - val_acc: 0.8383\n",
      "Epoch 11/15\n",
      "13833/13833 [==============================] - 11s 777us/step - loss: 1.9128e-06 - acc: 1.0000 - val_loss: 1.8242 - val_acc: 0.8375\n",
      "Epoch 12/15\n",
      "13833/13833 [==============================] - 11s 786us/step - loss: 2.0087e-06 - acc: 1.0000 - val_loss: 1.8184 - val_acc: 0.8399\n",
      "Epoch 13/15\n",
      "13833/13833 [==============================] - 11s 792us/step - loss: 0.0013 - acc: 0.9996 - val_loss: 1.8671 - val_acc: 0.8239\n",
      "Epoch 14/15\n",
      "13833/13833 [==============================] - 11s 785us/step - loss: 5.7337e-04 - acc: 0.9998 - val_loss: 1.8869 - val_acc: 0.8351\n",
      "Epoch 15/15\n",
      "13833/13833 [==============================] - 11s 789us/step - loss: 1.4334e-05 - acc: 1.0000 - val_loss: 1.8861 - val_acc: 0.8367\n"
     ]
    }
   ],
   "source": [
    "reduce_lr = ReduceLROnPlateau(monitor='val_loss', factor=0.2,\n",
    "                              patience=3, min_lr=0.0001)\n",
    "\n",
    "model_history = model.fit(xx1, yy1,epochs=15,validation_data=(xv, yv),class_weight=cw,callbacks=[reduce_lr])"
   ]
  },
  {
   "cell_type": "code",
   "execution_count": null,
   "metadata": {},
   "outputs": [],
   "source": [
    "model.save('temp_model')"
   ]
  },
  {
   "cell_type": "code",
   "execution_count": 82,
   "metadata": {},
   "outputs": [
    {
     "data": {
      "text/plain": [
       "(0,)"
      ]
     },
     "execution_count": 82,
     "metadata": {},
     "output_type": "execute_result"
    }
   ],
   "source": [
    "np.shape(xt)"
   ]
  },
  {
   "cell_type": "code",
   "execution_count": 32,
   "metadata": {},
   "outputs": [
    {
     "name": "stdout",
     "output_type": "stream",
     "text": [
      "(128, 1495)\n",
      "(128, 1262)\n",
      "(128, 1989)\n",
      "(128, 879)\n",
      "(128, 221)\n",
      "(128, 6760)\n"
     ]
    },
    {
     "data": {
      "text/plain": [
       "(12486, 128, 20, 1)"
      ]
     },
     "execution_count": 32,
     "metadata": {},
     "output_type": "execute_result"
    }
   ],
   "source": [
    "import cv2\n",
    "xt=[]\n",
    "yt=[]\n",
    "\n",
    "for i,c in enumerate(styleview):\n",
    "    X, sample_rate = librosa.load('sounddata/'+c+'/test/5_1.wav')\n",
    "    mel = librosa.feature. melspectrogram(X, sr=sample_rate)\n",
    "    print(np.shape(mel))\n",
    "    for j in range(0,mel.shape[1]-20):\n",
    "#         print(j)\n",
    "        a=mel[:,j:(j+20)]\n",
    "#         print(np.shape(a))\n",
    "        a=(np.reshape(a,(128,20,1))).astype(np.float32)\n",
    "        xt.append(a)\n",
    "        \n",
    "#         print(np.shape(x))\n",
    "        \n",
    "        yout=np.zeros(len(styleview))\n",
    "        yout[i]=1\n",
    "        yt.append(yout)\n",
    "   \n",
    "\n",
    "xxt=np.array(xt)\n",
    "yyt=np.array(yt)\n",
    "np.shape(xxt)\n",
    "# "
   ]
  },
  {
   "cell_type": "code",
   "execution_count": 33,
   "metadata": {},
   "outputs": [],
   "source": [
    "xte,xv,yte,yv=train_test_split(xxt,yyt,train_size=0.9,shuffle=True)"
   ]
  },
  {
   "cell_type": "code",
   "execution_count": 17,
   "metadata": {},
   "outputs": [
    {
     "name": "stdout",
     "output_type": "stream",
     "text": [
      "13212/13212 [==============================] - 4s 272us/step\n"
     ]
    },
    {
     "data": {
      "text/plain": [
       "[1.000307362173638, 0.82689978888350257]"
      ]
     },
     "execution_count": 17,
     "metadata": {},
     "output_type": "execute_result"
    }
   ],
   "source": [
    "model.evaluate( xte, yte, batch_size=40, verbose=1, sample_weight=None, steps=None)"
   ]
  },
  {
   "cell_type": "code",
   "execution_count": 95,
   "metadata": {},
   "outputs": [
    {
     "ename": "TypeError",
     "evalue": "`inputs` should be a list or tuple.",
     "output_type": "error",
     "traceback": [
      "\u001b[0;31m---------------------------------------------------------------------------\u001b[0m",
      "\u001b[0;31mTypeError\u001b[0m                                 Traceback (most recent call last)",
      "\u001b[0;32m<ipython-input-95-15c50e63c847>\u001b[0m in \u001b[0;36m<module>\u001b[0;34m()\u001b[0m\n\u001b[0;32m----> 1\u001b[0;31m \u001b[0mmodel\u001b[0m\u001b[0;34m.\u001b[0m\u001b[0mpredict_function\u001b[0m\u001b[0;34m(\u001b[0m\u001b[0mxte\u001b[0m\u001b[0;34m)\u001b[0m\u001b[0;34m\u001b[0m\u001b[0m\n\u001b[0m",
      "\u001b[0;32m/opt/conda/lib/python3.6/site-packages/keras/backend/tensorflow_backend.py\u001b[0m in \u001b[0;36m__call__\u001b[0;34m(self, inputs)\u001b[0m\n\u001b[1;32m   2461\u001b[0m     \u001b[0;32mdef\u001b[0m \u001b[0m__call__\u001b[0m\u001b[0;34m(\u001b[0m\u001b[0mself\u001b[0m\u001b[0;34m,\u001b[0m \u001b[0minputs\u001b[0m\u001b[0;34m)\u001b[0m\u001b[0;34m:\u001b[0m\u001b[0;34m\u001b[0m\u001b[0m\n\u001b[1;32m   2462\u001b[0m         \u001b[0;32mif\u001b[0m \u001b[0;32mnot\u001b[0m \u001b[0misinstance\u001b[0m\u001b[0;34m(\u001b[0m\u001b[0minputs\u001b[0m\u001b[0;34m,\u001b[0m \u001b[0;34m(\u001b[0m\u001b[0mlist\u001b[0m\u001b[0;34m,\u001b[0m \u001b[0mtuple\u001b[0m\u001b[0;34m)\u001b[0m\u001b[0;34m)\u001b[0m\u001b[0;34m:\u001b[0m\u001b[0;34m\u001b[0m\u001b[0m\n\u001b[0;32m-> 2463\u001b[0;31m             \u001b[0;32mraise\u001b[0m \u001b[0mTypeError\u001b[0m\u001b[0;34m(\u001b[0m\u001b[0;34m'`inputs` should be a list or tuple.'\u001b[0m\u001b[0;34m)\u001b[0m\u001b[0;34m\u001b[0m\u001b[0m\n\u001b[0m\u001b[1;32m   2464\u001b[0m         \u001b[0mfeed_dict\u001b[0m \u001b[0;34m=\u001b[0m \u001b[0mself\u001b[0m\u001b[0;34m.\u001b[0m\u001b[0mfeed_dict\u001b[0m\u001b[0;34m.\u001b[0m\u001b[0mcopy\u001b[0m\u001b[0;34m(\u001b[0m\u001b[0;34m)\u001b[0m\u001b[0;34m\u001b[0m\u001b[0m\n\u001b[1;32m   2465\u001b[0m         \u001b[0;32mfor\u001b[0m \u001b[0mtensor\u001b[0m\u001b[0;34m,\u001b[0m \u001b[0mvalue\u001b[0m \u001b[0;32min\u001b[0m \u001b[0mzip\u001b[0m\u001b[0;34m(\u001b[0m\u001b[0mself\u001b[0m\u001b[0;34m.\u001b[0m\u001b[0minputs\u001b[0m\u001b[0;34m,\u001b[0m \u001b[0minputs\u001b[0m\u001b[0;34m)\u001b[0m\u001b[0;34m:\u001b[0m\u001b[0;34m\u001b[0m\u001b[0m\n",
      "\u001b[0;31mTypeError\u001b[0m: `inputs` should be a list or tuple."
     ]
    }
   ],
   "source": []
  },
  {
   "cell_type": "code",
   "execution_count": 23,
   "metadata": {},
   "outputs": [],
   "source": [
    "from sklearn.metrics import confusion_matrix"
   ]
  },
  {
   "cell_type": "code",
   "execution_count": 24,
   "metadata": {},
   "outputs": [],
   "source": [
    "def predict_classes(self, x, batch_size=32, verbose=1):\n",
    "    '''Generate class predictions for the input samples\n",
    "    batch by batch.\n",
    "    # Arguments\n",
    "        x: input data, as a Numpy array or list of Numpy arrays\n",
    "            (if the model has multiple inputs).\n",
    "        batch_size: integer.\n",
    "        verbose: verbosity mode, 0 or 1.\n",
    "    # Returns\n",
    "        A numpy array of class predictions.\n",
    "    '''\n",
    "    proba = self.predict(x, batch_size=batch_size, verbose=verbose)\n",
    "    if proba.shape[-1] > 1:\n",
    "        return proba.argmax(axis=-1)\n",
    "    else:\n",
    "        return (proba > 0.5).astype('int32')"
   ]
  },
  {
   "cell_type": "code",
   "execution_count": 25,
   "metadata": {},
   "outputs": [],
   "source": [
    "def print_confusion_matrix(label_y, pred_x, names):\n",
    "    cm = confusion_matrix(np.argmax(label_y, axis=1), model.predict_classes(pred_x))\n",
    "#     cm = confusion_matrix(np.argmax(label_y, axis=1), predict_classes(model,pred_x))\n",
    "#     cm = confusion_matrix(np.argmax(label_y, axis=1),np.argmax(model.predict(pred_x)))\n",
    "    plot_confusion_matrix(cm, names)"
   ]
  },
  {
   "cell_type": "code",
   "execution_count": 26,
   "metadata": {},
   "outputs": [],
   "source": [
    "def plot_confusion_matrix(cm, target_names, title='Confusion matrix'):\n",
    "    import matplotlib.pyplot as plt\n",
    "    import numpy as np\n",
    "    import itertools\n",
    "    cm2 = cm.astype('float') / cm.sum(axis=1)[:, np.newaxis]\n",
    "    \n",
    "    plt.figure(figsize=(12, 10))\n",
    "#     plt.imshow(cm, interpolation='nearest', cmap=plt.get_cmap('Blues'))\n",
    "    plt.imshow(cm2, interpolation='nearest', cmap=plt.get_cmap('Reds'))\n",
    "    plt.title('{0} {1:.2%}'.format(title, cm.trace()/cm.sum()))\n",
    "    plt.colorbar()\n",
    "\n",
    "    if target_names is not None:\n",
    "        tick_marks = np.arange(len(target_names))\n",
    "        plt.xticks(tick_marks, target_names, rotation=45)\n",
    "        plt.yticks(tick_marks, target_names)\n",
    "\n",
    "    \n",
    "\n",
    "    thresh = cm.max() / 2\n",
    "    thresh2=cm2.max()/2\n",
    "    for i, j in itertools.product(range(cm.shape[0]), range(cm.shape[1])):\n",
    "        plt.text(j, i, \"{0} ({1:.2%})\".format(cm[i, j], cm2[i,j]), horizontalalignment=\"center\",\n",
    "                 color=\"white\" if cm2[i, j] > thresh2 else \"black\")\n",
    "\n",
    "    plt.show()"
   ]
  },
  {
   "cell_type": "code",
   "execution_count": 110,
   "metadata": {},
   "outputs": [
    {
     "data": {
      "image/png": "[encoded data removed]",
      "text/plain": [
       "<matplotlib.figure.Figure at 0x7f1e1f376390>"
      ]
     },
     "metadata": {},
     "output_type": "display_data"
    }
   ],
   "source": [
    "print_confusion_matrix(yy1, xx1, styleview)"
   ]
  },
  {
   "cell_type": "code",
   "execution_count": 112,
   "metadata": {},
   "outputs": [
    {
     "data": {
      "image/png": "[encoded data removed]",
      "text/plain": [
       "<matplotlib.figure.Figure at 0x7f1e1f4cc2b0>"
      ]
     },
     "metadata": {},
     "output_type": "display_data"
    }
   ],
   "source": [
    "# import matplotlib.pyplot as plt\n",
    "# plt.subplot(211)\n",
    "\n",
    "# plt.subplot(212)\n",
    "print_confusion_matrix(yte, xte, styleview)\n"
   ]
  },
  {
   "cell_type": "code",
   "execution_count": null,
   "metadata": {},
   "outputs": [],
   "source": []
  },
  {
   "cell_type": "code",
   "execution_count": null,
   "metadata": {},
   "outputs": [],
   "source": []
  }
 ],
 "metadata": {
  "kernelspec": {
   "display_name": "Python 3",
   "language": "python",
   "name": "python3"
  },
  "language_info": {
   "codemirror_mode": {
    "name": "ipython",
    "version": 3
   },
   "file_extension": ".py",
   "mimetype": "text/x-python",
   "name": "python",
   "nbconvert_exporter": "python",
   "pygments_lexer": "ipython3",
   "version": "3.6.3"
  }
 },
 "nbformat": 4,
 "nbformat_minor": 2
}
